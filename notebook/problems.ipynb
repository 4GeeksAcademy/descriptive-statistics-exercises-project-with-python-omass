{
    "cells": [
        {
            "cell_type": "markdown",
            "id": "ac622319",
            "metadata": {},
            "source": [
                "# Descriptive statistics problems"
            ]
        },
        {
            "cell_type": "markdown",
            "id": "aa8993e4",
            "metadata": {},
            "source": [
                "### Exercise 1"
            ]
        },
        {
            "cell_type": "markdown",
            "id": "5e0ab0d5",
            "metadata": {},
            "source": [
                "We will use Numpy to obtain information to describe statistically.\n",
                "\n",
                "- Generate an array of 100 elements following a normal distribution.\n",
                "- Generate an array of 100 elements following a chi-square distribution with 3 degrees of freedom.\n",
                "- Calculate the main metrics and statistical measures that best describe the two vectors."
            ]
        },
        {
            "cell_type": "code",
            "execution_count": 6,
            "id": "34720ab6",
            "metadata": {},
            "outputs": [
                {
                    "name": "stdout",
                    "output_type": "stream",
                    "text": [
                        "Normal distribution vector: [-0.85988749  0.62659963 -0.22240314 -0.91723226 -1.29707547 -0.26948209\n",
                        "  0.41012788 -0.26118511 -0.01063787  1.47278597  0.49956149  1.09045526\n",
                        " -0.6033051   1.25020322 -0.58711145 -0.96887469 -1.62692631  1.1073757\n",
                        " -0.61848912 -0.32818281 -0.10265133  0.91323569 -0.55269903  0.13212634\n",
                        " -0.62461664  0.5138284  -1.77045923  0.88172575 -0.69991255  2.03497578\n",
                        " -0.91650024  1.48955577  0.09114134 -0.41083122 -1.31563572 -1.06133483\n",
                        "  0.49776097 -0.35527411 -0.6772187  -0.61433335  0.24984655 -0.69512298\n",
                        "  0.24186963  0.03111784 -0.48547495  0.72975654  0.33086942 -2.03921563\n",
                        " -0.071922    0.58840611  0.94718557 -1.11221446  0.35697786 -1.20965883\n",
                        " -0.75971822 -0.30416434 -0.59837301  0.48604297  0.54711366  0.24063777\n",
                        "  0.25557929  1.56304881 -0.8539221  -1.20931286  1.17485437 -0.64290166\n",
                        " -0.58021096  1.10379494  0.11369598 -0.64331644 -0.0748592  -0.14808421\n",
                        "  0.61533813  0.67596708 -0.3427276   0.28380862 -0.42801756 -0.4645147\n",
                        "  0.4836089  -0.89160354 -0.48617792 -0.22599889 -0.23608947 -1.00385327\n",
                        " -0.4986353  -0.42384826 -0.12655676 -0.3214624   0.22064772 -0.22102174\n",
                        " -0.61509073  0.40539543 -1.02805894 -0.85938138 -1.60351175  1.27827009\n",
                        "  1.07252807 -1.21931764  0.23328128 -0.63754801]\n",
                        "Chi square vector: [ 3.06604563  5.2965364   0.16478906  2.08756793  2.70112025  1.48627568\n",
                        "  2.41867534  2.2341251   0.70155927  0.36739966  1.82589835  2.05721203\n",
                        "  2.98471652  2.20808144  0.69297496  6.57872368  1.83668212  1.1189521\n",
                        "  3.11776512  2.95616368  5.69347134  0.04736292  0.75635094  1.79340067\n",
                        "  3.67663143  3.46879976  1.56831809  6.90890308  1.33784434  1.33879149\n",
                        "  1.63225319  1.96448565  7.22629108  1.65074087 14.26552931  4.47446009\n",
                        "  1.94755808  0.97589611  0.09049143  2.24625721  0.54614034  0.97358592\n",
                        "  0.43328665  6.12422604  2.62839098  0.86515125  0.7371969   1.5788499\n",
                        "  2.15812035  0.86912026  1.16878142  2.51185184  2.32106132  1.26826028\n",
                        "  5.33731397  0.48268248  0.46059679  6.98996227  7.83281913  1.45270704\n",
                        "  2.46108255  1.30113209  1.68530913  1.93793725  2.88150243  0.71352256\n",
                        "  4.18708112  0.69644647  1.23175717  6.86392062  1.52092025  3.29428886\n",
                        "  5.92449059  2.84332078  0.91492609  0.17244382  3.23512514  0.3851553\n",
                        "  2.76777122  2.36225238  0.72835601  2.55951493  4.56863303  1.03918476\n",
                        "  4.84634165  3.01078665  4.64885267  4.49620173  5.22253729  3.49444593\n",
                        "  3.01143647  1.78304375  8.56773815  2.7940908   0.85592992  2.00172632\n",
                        "  0.17663622  3.0890066   1.95036868  0.14121697]\n"
                    ]
                }
            ],
            "source": [
                "# TODO\n",
                "import numpy as np\n",
                "\n",
                "nd = np.random.normal(size=100)\n",
                "chisq = np.random.chisquare(3, 100)\n",
                "\n",
                "print(f'Normal distribution vector: {nd}')\n",
                "print(f'Chi square vector: {chisq}')"
            ]
        },
        {
            "cell_type": "code",
            "execution_count": 19,
            "metadata": {},
            "outputs": [
                {
                    "name": "stdout",
                    "output_type": "stream",
                    "text": [
                        "Normal Distribution median: -0.2486372922683003\n",
                        "Chi median: 2.02946917316486\n"
                    ]
                }
            ],
            "source": [
                "#Median\n",
                "import statistics as stats\n",
                "\n",
                "print(f'Normal Distribution median: {stats.median(nd)}')\n",
                "print(f'Chi median: {stats.median(chisq)}')"
            ]
        },
        {
            "cell_type": "code",
            "execution_count": 18,
            "metadata": {},
            "outputs": [
                {
                    "name": "stdout",
                    "output_type": "stream",
                    "text": [
                        "Normal Distribution mean: -0.134930458252182\n",
                        "Chi mean: 2.620716409073946\n"
                    ]
                }
            ],
            "source": [
                "#Mean\n",
                "import statistics as stats\n",
                "\n",
                "print(f'Normal Distribution mean: {stats.mean(nd)}')\n",
                "print(f'Chi mean: {stats.mean(chisq)}')"
            ]
        },
        {
            "cell_type": "code",
            "execution_count": 17,
            "metadata": {},
            "outputs": [
                {
                    "name": "stdout",
                    "output_type": "stream",
                    "text": [
                        "Normal Distribution mode: -0.8598874944423791\n",
                        "Chi mode: 3.0660456265572877\n"
                    ]
                }
            ],
            "source": [
                "#Mode\n",
                "import statistics as stats\n",
                "\n",
                "print(f'Normal Distribution mode: {stats.mode(nd)}')\n",
                "print(f'Chi mode: {stats.mode(chisq)}')"
            ]
        },
        {
            "cell_type": "code",
            "execution_count": 16,
            "metadata": {},
            "outputs": [
                {
                    "name": "stdout",
                    "output_type": "stream",
                    "text": [
                        "Normal distribution range: 4.07419140531797\n",
                        "Chi range: 14.218166387675646\n"
                    ]
                }
            ],
            "source": [
                "#Range\n",
                "import statistics as stats\n",
                "\n",
                "nd_range = max(nd) - min(nd)\n",
                "chisq_range = max(chisq) - min(chisq)\n",
                "\n",
                "print(f'Normal distribution range: {nd_range}')\n",
                "print(f'Chi range: {chisq_range}')"
            ]
        },
        {
            "cell_type": "code",
            "execution_count": 15,
            "metadata": {},
            "outputs": [
                {
                    "name": "stdout",
                    "output_type": "stream",
                    "text": [
                        "Variance of normal distribution is 0.6563993932761351 and standard deviation 0.8101847895857679\n",
                        "Variance of Chi is 5.1602263658067 and standard deviation 2.2716131637685804\n"
                    ]
                }
            ],
            "source": [
                "#Variance and Standard Deviation\n",
                "\n",
                "var_nd = stats.variance(nd)\n",
                "std_nd = stats.stdev(nd)\n",
                "var_chisq = stats.variance(chisq)\n",
                "std_chisq = stats.stdev(chisq)\n",
                "\n",
                "print(f'Variance of normal distribution is {var_nd} and standard deviation {std_nd}')\n",
                "print(f'Variance of Chi is {var_chisq} and standard deviation {std_chisq}')"
            ]
        },
        {
            "cell_type": "code",
            "execution_count": 20,
            "metadata": {},
            "outputs": [
                {
                    "name": "stdout",
                    "output_type": "stream",
                    "text": [
                        "Normal skewness is 0.2647321122699592\n",
                        "Chi skewness is 1.9683785526443875\n"
                    ]
                }
            ],
            "source": [
                "#Skew\n",
                "from scipy.stats import skew\n",
                "\n",
                "skw_dis = skew(nd)\n",
                "chi_skw = skew(chisq)\n",
                "\n",
                "print(f'Normal skewness is {skw_dis}')\n",
                "print(f'Chi skewness is {chi_skw}')"
            ]
        },
        {
            "cell_type": "code",
            "execution_count": 21,
            "metadata": {},
            "outputs": [
                {
                    "name": "stdout",
                    "output_type": "stream",
                    "text": [
                        "Kurtosis normal is -0.2770739476094475\n",
                        "Kurtosis chi is 5.909304061449999\n"
                    ]
                }
            ],
            "source": [
                "from scipy.stats import kurtosis\n",
                "\n",
                "kurt_nd = kurtosis(nd)\n",
                "kurt_chi = kurtosis(chisq)\n",
                "\n",
                "print(f'Kurtosis normal is {kurt_nd}')\n",
                "print(f'Kurtosis chi is {kurt_chi}')"
            ]
        },
        {
            "cell_type": "markdown",
            "id": "46c70c3d",
            "metadata": {},
            "source": [
                "### Exercise 2\n",
                "\n",
                "Write a Python program to calculate the standard deviation of the following data:\n",
                "\n",
                "```py\n",
                "data = [4, 2, 5, 8, 6]\n",
                "```"
            ]
        },
        {
            "cell_type": "code",
            "execution_count": 26,
            "id": "d590308e",
            "metadata": {},
            "outputs": [
                {
                    "name": "stdout",
                    "output_type": "stream",
                    "text": [
                        "Mean (Average): 5.0\n",
                        "Variance: 4.0\n",
                        "Standard Deviation: 2.0\n"
                    ]
                }
            ],
            "source": [
                "# TODO\n",
                "import numpy as np\n",
                "import math\n",
                "\n",
                "data = [4, 2, 5, 8, 6]\n",
                "\n",
                "mean = sum(data) / len(data)\n",
                "\n",
                "# Calculate the squared differences from the mean\n",
                "squared_diff = [(x - mean)**2 for x in data]\n",
                "\n",
                "# Calculate the variance (average of squared differences)\n",
                "variance = sum(squared_diff) / len(data)\n",
                "\n",
                "# Calculate the standard deviation (square root of the variance)\n",
                "std_deviation = math.sqrt(variance)\n",
                "\n",
                "print(f\"Mean (Average): {mean}\")\n",
                "print(f\"Variance: {variance}\")\n",
                "print(f\"Standard Deviation: {std_deviation}\")\n",
                "\n",
                "\n"
            ]
        }
    ],
    "metadata": {
        "interpreter": {
            "hash": "9248718ffe6ce6938b217e69dbcc175ea21f4c6b28a317e96c05334edae734bb"
        },
        "kernelspec": {
            "display_name": "Python 3.9.12 ('ML-BOOTCAMP')",
            "language": "python",
            "name": "python3"
        },
        "language_info": {
            "codemirror_mode": {
                "name": "ipython",
                "version": 3
            },
            "file_extension": ".py",
            "mimetype": "text/x-python",
            "name": "python",
            "nbconvert_exporter": "python",
            "pygments_lexer": "ipython3",
            "version": "3.11.4"
        }
    },
    "nbformat": 4,
    "nbformat_minor": 5
}
